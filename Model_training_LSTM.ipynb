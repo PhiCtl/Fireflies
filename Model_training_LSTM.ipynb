{
  "nbformat": 4,
  "nbformat_minor": 0,
  "metadata": {
    "accelerator": "GPU",
    "colab": {
      "name": "Crossvalidation.ipynb",
      "provenance": [],
      "collapsed_sections": [],
      "toc_visible": true
    },
    "kernelspec": {
      "display_name": "Python 3",
      "name": "python3"
    }
  },
  "cells": [
    {
      "cell_type": "markdown",
      "metadata": {
        "id": "I9xbO0iVIUFb"
      },
      "source": [
        "# **LSTM**"
      ]
    },
    {
      "cell_type": "markdown",
      "metadata": {
        "id": "RqtqIGRCHqeD"
      },
      "source": [
        "### Package requirements"
      ]
    },
    {
      "cell_type": "code",
      "metadata": {
        "id": "VptfnyZyaH0r"
      },
      "source": [
        "!pip install focal-loss"
      ],
      "execution_count": null,
      "outputs": []
    },
    {
      "cell_type": "code",
      "metadata": {
        "id": "GwP9z7gQQY38"
      },
      "source": [
        "!pip install plot_keras_history"
      ],
      "execution_count": null,
      "outputs": []
    },
    {
      "cell_type": "markdown",
      "metadata": {
        "id": "zoF01I8IINNT"
      },
      "source": [
        "Load training set"
      ]
    },
    {
      "cell_type": "code",
      "metadata": {
        "id": "AZ35EYfdQ9Ni"
      },
      "source": [
        "!unzip data_fly.zip"
      ],
      "execution_count": null,
      "outputs": []
    },
    {
      "cell_type": "code",
      "metadata": {
        "id": "j6dTHPPXNg_j",
        "colab": {
          "base_uri": "https://localhost:8080/"
        },
        "outputId": "3dbe5366-f371-4a10-f78a-0f933022fd9a"
      },
      "source": [
        "from Load import*\n",
        "from Train import*\n",
        "from Utils import*\n",
        "from Data_augmentation import*\n",
        "%matplotlib inline\n",
        "%load_ext autoreload\n",
        "%autoreload 2"
      ],
      "execution_count": 39,
      "outputs": [
        {
          "output_type": "stream",
          "text": [
            "The autoreload extension is already loaded. To reload it, use:\n",
            "  %reload_ext autoreload\n"
          ],
          "name": "stdout"
        }
      ]
    },
    {
      "cell_type": "markdown",
      "metadata": {
        "id": "i014Tiofdb01"
      },
      "source": [
        "Unzip the model weights for LSTM. The folder should be then moved to a Results folder."
      ]
    },
    {
      "cell_type": "code",
      "metadata": {
        "id": "1ywMr6madY-G"
      },
      "source": [
        "!unzip Results/opt_LSTM_model.zip"
      ],
      "execution_count": null,
      "outputs": []
    },
    {
      "cell_type": "markdown",
      "metadata": {
        "id": "uOrhGtOHALrv"
      },
      "source": [
        "## **Building training / validation / testing data sets**"
      ]
    },
    {
      "cell_type": "markdown",
      "metadata": {
        "id": "aOm8tqdcAlbF"
      },
      "source": [
        "### Load training data in full length"
      ]
    },
    {
      "cell_type": "code",
      "metadata": {
        "id": "9scQ2aVpapXC"
      },
      "source": [
        "X, Y = load_training_data()\n",
        "train, test, val = train_te_val_split(X,Y)\n"
      ],
      "execution_count": 40,
      "outputs": []
    },
    {
      "cell_type": "markdown",
      "metadata": {
        "id": "Au9fOcY_AsJn"
      },
      "source": [
        "### Load augmented training data (gaussian noise)"
      ]
    },
    {
      "cell_type": "code",
      "metadata": {
        "id": "stYm-pMz2F4t"
      },
      "source": [
        "X, Y = load_training_data()\n",
        "T=2\n",
        "train, test, val = data_augmentation(X,Y,T)"
      ],
      "execution_count": null,
      "outputs": []
    },
    {
      "cell_type": "markdown",
      "metadata": {
        "id": "FzeZqa2BE5vT"
      },
      "source": [
        "### Load split data \n",
        "(the size T of the split can be tuned)"
      ]
    },
    {
      "cell_type": "code",
      "metadata": {
        "id": "ZEDKZmeM6rvN"
      },
      "source": [
        "X, Y = load_training_data()\n",
        "train, test, val = data_augmentation_2(X,Y)"
      ],
      "execution_count": null,
      "outputs": []
    },
    {
      "cell_type": "markdown",
      "metadata": {
        "id": "Ob-9lh6zFMV_"
      },
      "source": [
        "### Evaluate on test set\n",
        "Stack train and validation data to train and evaluate model against test set"
      ]
    },
    {
      "cell_type": "code",
      "metadata": {
        "id": "o3H_LXedHkvC"
      },
      "source": [
        "X_tr = np.vstack((train[0], val[0]))\n",
        "Y_tr = np.vstack((train[1], val[1]))"
      ],
      "execution_count": null,
      "outputs": []
    },
    {
      "cell_type": "markdown",
      "metadata": {
        "id": "_u0lsQQZMlsj"
      },
      "source": [
        "## **Building a model**"
      ]
    },
    {
      "cell_type": "code",
      "metadata": {
        "id": "GkvCNAIqFNyf"
      },
      "source": [
        "run_exp_hist(train[0], train[1], val[0], val[1], repeats = 5, gamma = 2, node = 100)"
      ],
      "execution_count": null,
      "outputs": []
    },
    {
      "cell_type": "markdown",
      "metadata": {
        "id": "yl3bII2I5WNR"
      },
      "source": [
        "### Cross validation \r\n",
        "Train and validation loss evolutions are printed for each parameter.\r\n",
        "When CV is set to false, the model is trained in X_train, Y_train only. "
      ]
    },
    {
      "cell_type": "markdown",
      "metadata": {
        "id": "yqNR8Ud0NGsR"
      },
      "source": [
        "Cross validation number of nodes and model type\r\n",
        "(average on 5 repeats -> 5 fold cross validation)"
      ]
    },
    {
      "cell_type": "code",
      "metadata": {
        "id": "6y8pSDhlogIV"
      },
      "source": [
        "for node in [100,200,300,400,500]:\r\n",
        "  print('Node number: ', node)\r\n",
        "  run_exp_hist(X_tr,Y_tr, test[0], test[1], node = node, m_type=0)"
      ],
      "execution_count": null,
      "outputs": []
    },
    {
      "cell_type": "code",
      "metadata": {
        "id": "46X-KcTT5tNx"
      },
      "source": [
        "for node in [600,700,800,900,1000]:\r\n",
        "  print('Node number: ', node)\r\n",
        "  run_exp_hist(X_tr,Y_tr, test[0], test[1], node = node, m_type=0, CV = True)"
      ],
      "execution_count": null,
      "outputs": []
    },
    {
      "cell_type": "markdown",
      "metadata": {
        "id": "qQqL_PvzSBdp"
      },
      "source": [
        "Cross validation on dropout."
      ]
    },
    {
      "cell_type": "code",
      "metadata": {
        "id": "f0ivnWpX55mb"
      },
      "source": [
        "for d in [0,0.1,0.2,0.3]:\r\n",
        "  print('Dropout value : ', d)\r\n",
        "  run_exp_hist(X_tr,Y_tr, test[0], test[1], node = 100, m_type=0, dropout = d, CV = True)"
      ],
      "execution_count": null,
      "outputs": []
    },
    {
      "cell_type": "markdown",
      "metadata": {
        "id": "2smu9eGe6GCN"
      },
      "source": [
        "Cross validation on model type"
      ]
    },
    {
      "cell_type": "code",
      "metadata": {
        "id": "4b7bqi1P6IfI"
      },
      "source": [
        "for m in [0,1,2]:\r\n",
        "  print('Model type : ', m)\r\n",
        "  run_exp_hist(X_tr,Y_tr, test[0], test[1], dropout = 0.1, node = 100, m_type=m, CV = True)"
      ],
      "execution_count": null,
      "outputs": []
    },
    {
      "cell_type": "markdown",
      "metadata": {
        "id": "EZpL4SJ09ch-"
      },
      "source": [
        "Cross validation on data structure (split windows)"
      ]
    },
    {
      "cell_type": "code",
      "metadata": {
        "id": "j2GIeTqV9gdr"
      },
      "source": [
        "for T in [4,7,9]:\r\n",
        "  X, Y = load_training_data()\r\n",
        "  train, test, val = data_augmentation(X,Y,T)\r\n",
        "  print('Split : ', T)\r\n",
        "  run_exp_hist(train[0],train[1], val[0], val[1], node = 100, m_type=1, dropout = 0.1, CV = False)"
      ],
      "execution_count": null,
      "outputs": []
    },
    {
      "cell_type": "code",
      "metadata": {
        "id": "Z_cHxc_iKEtx"
      },
      "source": [
        "X, Y = load_training_data()\r\n",
        "train, test, val = data_augmentation(X,Y,5)\r\n",
        "for reg in[1e-7, 1e-6, 1e-5, 1e-4]:\r\n",
        "  print(\"reg: \", reg)\r\n",
        "  run_exp_hist(train[0],train[1], val[0], val[1], node = 100, m_type=1, dropout = 0.1, CV = False)\r\n"
      ],
      "execution_count": null,
      "outputs": []
    },
    {
      "cell_type": "markdown",
      "metadata": {
        "id": "PvnLkMiq91dH"
      },
      "source": [
        "Cross validation on data structure (data augmented)"
      ]
    },
    {
      "cell_type": "code",
      "metadata": {
        "id": "nhlkd7Mp96FY"
      },
      "source": [
        "X, Y = load_training_data()\r\n",
        "train, test, val = data_augmentation_2(X,Y)\r\n",
        "X_tr = np.vstack((train[0], val[0]))\r\n",
        "Y_tr = np.vstack((train[1], val[1])) \r\n",
        "run_exp_hist(X_tr,Y_tr, test[0], test[1], node = 100, m_type=1, dropout=0.1, CV = True)\r\n"
      ],
      "execution_count": null,
      "outputs": []
    },
    {
      "cell_type": "markdown",
      "metadata": {
        "id": "Lkv10XyNTu_X"
      },
      "source": [
        "## **Evaluating on test set**"
      ]
    },
    {
      "cell_type": "markdown",
      "metadata": {
        "id": "MKQTleqmUDbg"
      },
      "source": [
        "Stack train and validation sets to build final train set"
      ]
    },
    {
      "cell_type": "code",
      "metadata": {
        "id": "fPQlb_Y9UC09"
      },
      "source": [
        "X_tr = np.vstack((train[0], val[0]))\n",
        "Y_tr = np.vstack((train[1], val[1]))"
      ],
      "execution_count": 45,
      "outputs": []
    },
    {
      "cell_type": "code",
      "metadata": {
        "id": "PxfJRktOURad"
      },
      "source": [
        "run_exp_hist(X_tr, Y_tr, test[0], test[1], repeats = 2, gamma = 2, node=600, dropout = 0.1, m_type=1, LSTM = True, CV = False)\r\n"
      ],
      "execution_count": null,
      "outputs": []
    },
    {
      "cell_type": "markdown",
      "metadata": {
        "id": "mLvSwVhcazcs"
      },
      "source": [
        "Single run on test set on best model architecture. "
      ]
    },
    {
      "cell_type": "code",
      "metadata": {
        "id": "cM9kLp0nLcgF"
      },
      "source": [
        "hist, loss, accuracy, wf1, wf1_, mf1, F1_tab, Ptab, Rtab = evaluate_model(X_tr, Y_tr, test[0], test[1], verbose = 1, plot = 1, single_run = 1)"
      ],
      "execution_count": null,
      "outputs": []
    },
    {
      "cell_type": "markdown",
      "metadata": {
        "id": "gUqjfjYxrpIm"
      },
      "source": [
        "Building predictions and saving predictions"
      ]
    },
    {
      "cell_type": "code",
      "metadata": {
        "id": "jwyKp-wHbjSf"
      },
      "source": [
        "predict(test[0], test[1],\"LSTM\")"
      ],
      "execution_count": null,
      "outputs": []
    },
    {
      "cell_type": "code",
      "metadata": {
        "id": "wOW-4p_Ap8E_"
      },
      "source": [
        "from google.colab import files\r\n",
        "files.download('Results/LSTM_Annotation.csv')\r\n",
        "! zip -r Results.zip Results/opt_LSTM_model\r\n",
        "files.download(\"Results.zip\")\r\n"
      ],
      "execution_count": null,
      "outputs": []
    },
    {
      "cell_type": "markdown",
      "metadata": {
        "id": "-8pOnZApf6WP"
      },
      "source": [
        "Google colab bash shell"
      ]
    },
    {
      "cell_type": "code",
      "metadata": {
        "id": "NRRNIEu0gGGp"
      },
      "source": [
        "!bash "
      ],
      "execution_count": null,
      "outputs": []
    }
  ]
}